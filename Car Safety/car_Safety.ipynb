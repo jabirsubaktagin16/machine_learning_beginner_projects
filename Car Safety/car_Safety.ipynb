{
  "nbformat": 4,
  "nbformat_minor": 0,
  "metadata": {
    "colab": {
      "name": "car_Safety.ipynb",
      "provenance": []
    },
    "kernelspec": {
      "name": "python3",
      "display_name": "Python 3"
    }
  },
  "cells": [
    {
      "cell_type": "code",
      "metadata": {
        "id": "SyLK7U8_MBkI"
      },
      "source": [
        "import numpy as np\n",
        "import pandas as pd\n",
        "import seaborn as sns\n",
        "import matplotlib.pyplot as plt"
      ],
      "execution_count": 1,
      "outputs": []
    },
    {
      "cell_type": "code",
      "metadata": {
        "id": "MQaYYBC3fri9"
      },
      "source": [
        "df=pd.read_csv(r'http://archive.ics.uci.edu/ml/machine-learning-databases/car/car.data',header=None,delimiter=',',names=['buying','maint','doors','persons','lug_boot','safety','CAR'])"
      ],
      "execution_count": null,
      "outputs": []
    },
    {
      "cell_type": "code",
      "metadata": {
        "colab": {
          "base_uri": "https://localhost:8080/"
        },
        "id": "Y7TpOGyVgMwH",
        "outputId": "108b712c-42a6-4e26-d09a-608185a7101b"
      },
      "source": [
        "from sklearn.preprocessing import LabelEncoder\n",
        "lbc=LabelEncoder()\n",
        "df[\"buying\"]=lbc.fit_transform(df[\"buying\"])\n",
        "df[\"maint\"]=lbc.fit_transform(df[\"maint\"])\n",
        "df[\"lug_boot\"]=lbc.fit_transform(df[\"lug_boot\"])\n",
        "df[\"safety\"]=lbc.fit_transform(df[\"safety\"])\n",
        "df[\"doors\"]=lbc.fit_transform(df[\"doors\"])\n",
        "df[\"persons\"]=lbc.fit_transform(df[\"persons\"])\n",
        "df['CAR'].unique()"
      ],
      "execution_count": 5,
      "outputs": [
        {
          "output_type": "execute_result",
          "data": {
            "text/plain": [
              "array(['unacc', 'acc', 'vgood', 'good'], dtype=object)"
            ]
          },
          "metadata": {
            "tags": []
          },
          "execution_count": 5
        }
      ]
    },
    {
      "cell_type": "code",
      "metadata": {
        "colab": {
          "base_uri": "https://localhost:8080/",
          "height": 195
        },
        "id": "o-cbtJvRgult",
        "outputId": "798d2576-1ab3-43ec-b24a-437eb67752df"
      },
      "source": [
        "df.applymap(np.isreal).head()"
      ],
      "execution_count": 6,
      "outputs": [
        {
          "output_type": "execute_result",
          "data": {
            "text/html": [
              "<div>\n",
              "<style scoped>\n",
              "    .dataframe tbody tr th:only-of-type {\n",
              "        vertical-align: middle;\n",
              "    }\n",
              "\n",
              "    .dataframe tbody tr th {\n",
              "        vertical-align: top;\n",
              "    }\n",
              "\n",
              "    .dataframe thead th {\n",
              "        text-align: right;\n",
              "    }\n",
              "</style>\n",
              "<table border=\"1\" class=\"dataframe\">\n",
              "  <thead>\n",
              "    <tr style=\"text-align: right;\">\n",
              "      <th></th>\n",
              "      <th>buying</th>\n",
              "      <th>maint</th>\n",
              "      <th>doors</th>\n",
              "      <th>persons</th>\n",
              "      <th>lug_boot</th>\n",
              "      <th>safety</th>\n",
              "      <th>CAR</th>\n",
              "    </tr>\n",
              "  </thead>\n",
              "  <tbody>\n",
              "    <tr>\n",
              "      <th>0</th>\n",
              "      <td>True</td>\n",
              "      <td>True</td>\n",
              "      <td>True</td>\n",
              "      <td>True</td>\n",
              "      <td>True</td>\n",
              "      <td>True</td>\n",
              "      <td>False</td>\n",
              "    </tr>\n",
              "    <tr>\n",
              "      <th>1</th>\n",
              "      <td>True</td>\n",
              "      <td>True</td>\n",
              "      <td>True</td>\n",
              "      <td>True</td>\n",
              "      <td>True</td>\n",
              "      <td>True</td>\n",
              "      <td>False</td>\n",
              "    </tr>\n",
              "    <tr>\n",
              "      <th>2</th>\n",
              "      <td>True</td>\n",
              "      <td>True</td>\n",
              "      <td>True</td>\n",
              "      <td>True</td>\n",
              "      <td>True</td>\n",
              "      <td>True</td>\n",
              "      <td>False</td>\n",
              "    </tr>\n",
              "    <tr>\n",
              "      <th>3</th>\n",
              "      <td>True</td>\n",
              "      <td>True</td>\n",
              "      <td>True</td>\n",
              "      <td>True</td>\n",
              "      <td>True</td>\n",
              "      <td>True</td>\n",
              "      <td>False</td>\n",
              "    </tr>\n",
              "    <tr>\n",
              "      <th>4</th>\n",
              "      <td>True</td>\n",
              "      <td>True</td>\n",
              "      <td>True</td>\n",
              "      <td>True</td>\n",
              "      <td>True</td>\n",
              "      <td>True</td>\n",
              "      <td>False</td>\n",
              "    </tr>\n",
              "  </tbody>\n",
              "</table>\n",
              "</div>"
            ],
            "text/plain": [
              "   buying  maint  doors  persons  lug_boot  safety    CAR\n",
              "0    True   True   True     True      True    True  False\n",
              "1    True   True   True     True      True    True  False\n",
              "2    True   True   True     True      True    True  False\n",
              "3    True   True   True     True      True    True  False\n",
              "4    True   True   True     True      True    True  False"
            ]
          },
          "metadata": {
            "tags": []
          },
          "execution_count": 6
        }
      ]
    },
    {
      "cell_type": "code",
      "metadata": {
        "id": "UtSIH187g1uc"
      },
      "source": [
        "X=df.drop(['CAR'],axis=1).values\n",
        "y=df['CAR'].values"
      ],
      "execution_count": 7,
      "outputs": []
    },
    {
      "cell_type": "code",
      "metadata": {
        "id": "6liYyhqhhExT"
      },
      "source": [
        "from sklearn.model_selection import train_test_split\n",
        "X_train, X_test,y_train,y_test=train_test_split(X,y,test_size=0.2,random_state=0)"
      ],
      "execution_count": 8,
      "outputs": []
    },
    {
      "cell_type": "code",
      "metadata": {
        "colab": {
          "base_uri": "https://localhost:8080/"
        },
        "id": "BaUJ_5BXhaIY",
        "outputId": "bf5ae0d7-d88f-442b-8952-731a2a94c28c"
      },
      "source": [
        "from sklearn.neighbors import KNeighborsClassifier\n",
        "from math import sqrt\n",
        "from sklearn.metrics import mean_squared_error\n",
        "y1=lbc.fit_transform(df[\"CAR\"])\n",
        "rmse=[]\n",
        "for k in range(20):\n",
        "  k=k+1\n",
        "  knn=KNeighborsClassifier(n_neighbors=k)\n",
        "  knn.fit(X,y1)\n",
        "  rmse.append(sqrt(mean_squared_error(y1,knn.predict(X))))\n",
        "  print('K value ',k,'rmse ',sqrt(mean_squared_error(y1,knn.predict(X))))"
      ],
      "execution_count": 13,
      "outputs": [
        {
          "output_type": "stream",
          "text": [
            "K value  1 rmse  0.0\n",
            "K value  2 rmse  0.5017331074496789\n",
            "K value  3 rmse  0.5464532103585\n",
            "K value  4 rmse  0.5808478796201801\n",
            "K value  5 rmse  0.4871021643541717\n",
            "K value  6 rmse  0.4947642536265799\n",
            "K value  7 rmse  0.40966336677090626\n",
            "K value  8 rmse  0.34860834438919813\n",
            "K value  9 rmse  0.23199018178458425\n",
            "K value  10 rmse  0.2602082499332666\n",
            "K value  11 rmse  0.2784713563300475\n",
            "K value  12 rmse  0.4046889523425963\n",
            "K value  13 rmse  0.44811849458060216\n",
            "K value  14 rmse  0.5368374469468802\n",
            "K value  15 rmse  0.5853140973807077\n",
            "K value  16 rmse  0.6382847385042254\n",
            "K value  17 rmse  0.6804138174397717\n",
            "K value  18 rmse  0.6752914322857344\n",
            "K value  19 rmse  0.7383352144445562\n",
            "K value  20 rmse  0.7530800950958866\n"
          ],
          "name": "stdout"
        }
      ]
    },
    {
      "cell_type": "code",
      "metadata": {
        "id": "uGjl0Q-ui0n8"
      },
      "source": [
        "knn=KNeighborsClassifier(n_neighbors=7)\n",
        "knn.fit(X_train,y_train)\n",
        "y_pred=knn.predict(X_test)"
      ],
      "execution_count": 14,
      "outputs": []
    },
    {
      "cell_type": "code",
      "metadata": {
        "colab": {
          "base_uri": "https://localhost:8080/"
        },
        "id": "dfD1TdhsjAri",
        "outputId": "6ad38c0f-e9eb-47a7-f938-2052cef3501e"
      },
      "source": [
        "from sklearn import metrics\n",
        "print(\"Accuracy \",metrics.accuracy_score(y,knn.predict(X)))"
      ],
      "execution_count": 16,
      "outputs": [
        {
          "output_type": "stream",
          "text": [
            "Accuracy  0.9565972222222222\n"
          ],
          "name": "stdout"
        }
      ]
    },
    {
      "cell_type": "code",
      "metadata": {
        "colab": {
          "base_uri": "https://localhost:8080/",
          "height": 265
        },
        "id": "tBcraHlLjaGc",
        "outputId": "e8f48fd2-af51-42f9-9a47-ddd3ccd0da6c"
      },
      "source": [
        "for xe, ye in zip(X,y):\n",
        "  plt.scatter(xe,[ye]*\n",
        "  len(xe),color=\"blue\",marker=\"o\",s=100)\n",
        "for xe, ye in zip(X,knn.predict(X)):\n",
        "  plt.scatter(xe,[ye]*\n",
        "  len(xe),color=\"yellow\",marker=\"*\",s=10)\n",
        "plt.show()"
      ],
      "execution_count": 19,
      "outputs": [
        {
          "output_type": "display_data",
          "data": {
            "image/png": "[encoded data removed]",
            "text/plain": [
              "<Figure size 432x288 with 1 Axes>"
            ]
          },
          "metadata": {
            "tags": [],
            "needs_background": "light"
          }
        }
      ]
    }
  ]
}